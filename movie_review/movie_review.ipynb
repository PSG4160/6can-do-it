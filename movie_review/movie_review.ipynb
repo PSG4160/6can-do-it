{
 "cells": [
  {
   "cell_type": "code",
   "execution_count": 3,
   "metadata": {},
   "outputs": [
    {
     "ename": "ModuleNotFoundError",
     "evalue": "No module named 'kagglehub'",
     "output_type": "error",
     "traceback": [
      "\u001b[0;31m---------------------------------------------------------------------------\u001b[0m",
      "\u001b[0;31mModuleNotFoundError\u001b[0m                       Traceback (most recent call last)",
      "Cell \u001b[0;32mIn[3], line 1\u001b[0m\n\u001b[0;32m----> 1\u001b[0m \u001b[38;5;28;01mimport\u001b[39;00m \u001b[38;5;21;01mkagglehub\u001b[39;00m\n\u001b[1;32m      3\u001b[0m \u001b[38;5;66;03m# Download latest version\u001b[39;00m\n\u001b[1;32m      4\u001b[0m path \u001b[38;5;241m=\u001b[39m kagglehub\u001b[38;5;241m.\u001b[39mdataset_download(\u001b[38;5;124m\"\u001b[39m\u001b[38;5;124mashishkumarak/netflix-reviews-playstore-daily-updated\u001b[39m\u001b[38;5;124m\"\u001b[39m)\n",
      "\u001b[0;31mModuleNotFoundError\u001b[0m: No module named 'kagglehub'"
     ]
    }
   ],
   "source": [
    "import kagglehub\n",
    "\n",
    "# Download latest version\n",
    "path = kagglehub.dataset_download(\"ashishkumarak/netflix-reviews-playstore-daily-updated\")\n",
    "\n",
    "print(\"Path to dataset files:\", path)\n"
   ]
  },
  {
   "cell_type": "code",
   "execution_count": 73,
   "metadata": {},
   "outputs": [],
   "source": [
    "import pandas as pd\n",
    "import re \n",
    "df = pd.read_csv(\"netflix_reviews.csv\")"
   ]
  },
  {
   "cell_type": "code",
   "execution_count": 74,
   "metadata": {},
   "outputs": [
    {
     "data": {
      "text/html": [
       "<div>\n",
       "<style scoped>\n",
       "    .dataframe tbody tr th:only-of-type {\n",
       "        vertical-align: middle;\n",
       "    }\n",
       "\n",
       "    .dataframe tbody tr th {\n",
       "        vertical-align: top;\n",
       "    }\n",
       "\n",
       "    .dataframe thead th {\n",
       "        text-align: right;\n",
       "    }\n",
       "</style>\n",
       "<table border=\"1\" class=\"dataframe\">\n",
       "  <thead>\n",
       "    <tr style=\"text-align: right;\">\n",
       "      <th></th>\n",
       "      <th>reviewId</th>\n",
       "      <th>userName</th>\n",
       "      <th>content</th>\n",
       "      <th>score</th>\n",
       "      <th>thumbsUpCount</th>\n",
       "      <th>reviewCreatedVersion</th>\n",
       "      <th>at</th>\n",
       "      <th>appVersion</th>\n",
       "    </tr>\n",
       "  </thead>\n",
       "  <tbody>\n",
       "    <tr>\n",
       "      <th>0</th>\n",
       "      <td>166731e8-4b10-4968-838d-329473357328</td>\n",
       "      <td>Sylviah Chichi</td>\n",
       "      <td>Great App on the move ..... I can watch my mov...</td>\n",
       "      <td>5</td>\n",
       "      <td>0</td>\n",
       "      <td>8.136.0 build 3 50908</td>\n",
       "      <td>2024-10-21 14:15:31</td>\n",
       "      <td>8.136.0 build 3 50908</td>\n",
       "    </tr>\n",
       "    <tr>\n",
       "      <th>1</th>\n",
       "      <td>68bab7d0-2afc-4454-970f-159ced93d751</td>\n",
       "      <td>Marilyn Goeda</td>\n",
       "      <td>good</td>\n",
       "      <td>5</td>\n",
       "      <td>0</td>\n",
       "      <td>NaN</td>\n",
       "      <td>2024-10-21 14:08:15</td>\n",
       "      <td>NaN</td>\n",
       "    </tr>\n",
       "    <tr>\n",
       "      <th>2</th>\n",
       "      <td>6c2d3e85-b5ca-4228-93bd-abd2236eab51</td>\n",
       "      <td>Nikhil Pk</td>\n",
       "      <td>Need to improve and to update some error durin...</td>\n",
       "      <td>3</td>\n",
       "      <td>0</td>\n",
       "      <td>8.131.0 build 3 50829</td>\n",
       "      <td>2024-10-21 13:54:11</td>\n",
       "      <td>8.131.0 build 3 50829</td>\n",
       "    </tr>\n",
       "    <tr>\n",
       "      <th>3</th>\n",
       "      <td>d62b0303-4c87-4c96-9c2c-a3ca6e0b056d</td>\n",
       "      <td>Mmesoma Eberechukwu</td>\n",
       "      <td>Netflix is a nice app,but not all the movies a...</td>\n",
       "      <td>3</td>\n",
       "      <td>0</td>\n",
       "      <td>8.136.0 build 3 50908</td>\n",
       "      <td>2024-10-21 13:30:42</td>\n",
       "      <td>8.136.0 build 3 50908</td>\n",
       "    </tr>\n",
       "    <tr>\n",
       "      <th>4</th>\n",
       "      <td>d6014252-863e-4e06-b440-25e0ece47a31</td>\n",
       "      <td>Keabetswe Monaise</td>\n",
       "      <td>Not much availability considering options on w...</td>\n",
       "      <td>3</td>\n",
       "      <td>0</td>\n",
       "      <td>8.136.0 build 3 50908</td>\n",
       "      <td>2024-10-21 13:28:43</td>\n",
       "      <td>8.136.0 build 3 50908</td>\n",
       "    </tr>\n",
       "  </tbody>\n",
       "</table>\n",
       "</div>"
      ],
      "text/plain": [
       "                               reviewId             userName  \\\n",
       "0  166731e8-4b10-4968-838d-329473357328       Sylviah Chichi   \n",
       "1  68bab7d0-2afc-4454-970f-159ced93d751        Marilyn Goeda   \n",
       "2  6c2d3e85-b5ca-4228-93bd-abd2236eab51            Nikhil Pk   \n",
       "3  d62b0303-4c87-4c96-9c2c-a3ca6e0b056d  Mmesoma Eberechukwu   \n",
       "4  d6014252-863e-4e06-b440-25e0ece47a31    Keabetswe Monaise   \n",
       "\n",
       "                                             content  score  thumbsUpCount  \\\n",
       "0  Great App on the move ..... I can watch my mov...      5              0   \n",
       "1                                               good      5              0   \n",
       "2  Need to improve and to update some error durin...      3              0   \n",
       "3  Netflix is a nice app,but not all the movies a...      3              0   \n",
       "4  Not much availability considering options on w...      3              0   \n",
       "\n",
       "    reviewCreatedVersion                   at             appVersion  \n",
       "0  8.136.0 build 3 50908  2024-10-21 14:15:31  8.136.0 build 3 50908  \n",
       "1                    NaN  2024-10-21 14:08:15                    NaN  \n",
       "2  8.131.0 build 3 50829  2024-10-21 13:54:11  8.131.0 build 3 50829  \n",
       "3  8.136.0 build 3 50908  2024-10-21 13:30:42  8.136.0 build 3 50908  \n",
       "4  8.136.0 build 3 50908  2024-10-21 13:28:43  8.136.0 build 3 50908  "
      ]
     },
     "execution_count": 74,
     "metadata": {},
     "output_type": "execute_result"
    }
   ],
   "source": [
    "df.head()"
   ]
  },
  {
   "cell_type": "code",
   "execution_count": 75,
   "metadata": {},
   "outputs": [
    {
     "data": {
      "text/html": [
       "<div>\n",
       "<style scoped>\n",
       "    .dataframe tbody tr th:only-of-type {\n",
       "        vertical-align: middle;\n",
       "    }\n",
       "\n",
       "    .dataframe tbody tr th {\n",
       "        vertical-align: top;\n",
       "    }\n",
       "\n",
       "    .dataframe thead th {\n",
       "        text-align: right;\n",
       "    }\n",
       "</style>\n",
       "<table border=\"1\" class=\"dataframe\">\n",
       "  <thead>\n",
       "    <tr style=\"text-align: right;\">\n",
       "      <th></th>\n",
       "      <th>reviewId</th>\n",
       "      <th>userName</th>\n",
       "      <th>content</th>\n",
       "      <th>score</th>\n",
       "      <th>thumbsUpCount</th>\n",
       "      <th>reviewCreatedVersion</th>\n",
       "      <th>at</th>\n",
       "      <th>appVersion</th>\n",
       "    </tr>\n",
       "  </thead>\n",
       "  <tbody>\n",
       "    <tr>\n",
       "      <th>117129</th>\n",
       "      <td>a760ead9-e7aa-4ed1-a651-5c37c3600dac</td>\n",
       "      <td>A Google user</td>\n",
       "      <td>i really like it! there are so many movies and...</td>\n",
       "      <td>5</td>\n",
       "      <td>0</td>\n",
       "      <td>NaN</td>\n",
       "      <td>2019-08-03 15:06:03</td>\n",
       "      <td>NaN</td>\n",
       "    </tr>\n",
       "    <tr>\n",
       "      <th>117130</th>\n",
       "      <td>4957f9e7-d7f4-4a52-9764-031cebcac83f</td>\n",
       "      <td>Captain Jeoy</td>\n",
       "      <td>I love Netflix. I always enjoy my time using it.</td>\n",
       "      <td>5</td>\n",
       "      <td>0</td>\n",
       "      <td>8.34.0 build 4 50250</td>\n",
       "      <td>2022-08-15 16:16:30</td>\n",
       "      <td>8.34.0 build 4 50250</td>\n",
       "    </tr>\n",
       "    <tr>\n",
       "      <th>117131</th>\n",
       "      <td>9acf7586-7abf-4b50-8c50-3ede3b2a42c4</td>\n",
       "      <td>Suryansh</td>\n",
       "      <td>Sound quality is very slow of movies</td>\n",
       "      <td>1</td>\n",
       "      <td>0</td>\n",
       "      <td>NaN</td>\n",
       "      <td>2020-08-17 07:26:58</td>\n",
       "      <td>NaN</td>\n",
       "    </tr>\n",
       "    <tr>\n",
       "      <th>117132</th>\n",
       "      <td>32870f7f-c461-4256-b602-75244ca60248</td>\n",
       "      <td>A Google user</td>\n",
       "      <td>Rate is very expensive.. bcos we see netflix s...</td>\n",
       "      <td>1</td>\n",
       "      <td>0</td>\n",
       "      <td>7.17.0 build 13 34346</td>\n",
       "      <td>2019-07-21 09:41:42</td>\n",
       "      <td>7.17.0 build 13 34346</td>\n",
       "    </tr>\n",
       "    <tr>\n",
       "      <th>117133</th>\n",
       "      <td>dc1352e9-10a8-41ca-ab23-05d045b08e90</td>\n",
       "      <td>suraj soni</td>\n",
       "      <td>this app is awesome for english movies ,series...</td>\n",
       "      <td>4</td>\n",
       "      <td>0</td>\n",
       "      <td>NaN</td>\n",
       "      <td>2020-05-24 11:04:08</td>\n",
       "      <td>NaN</td>\n",
       "    </tr>\n",
       "  </tbody>\n",
       "</table>\n",
       "</div>"
      ],
      "text/plain": [
       "                                    reviewId       userName  \\\n",
       "117129  a760ead9-e7aa-4ed1-a651-5c37c3600dac  A Google user   \n",
       "117130  4957f9e7-d7f4-4a52-9764-031cebcac83f   Captain Jeoy   \n",
       "117131  9acf7586-7abf-4b50-8c50-3ede3b2a42c4       Suryansh   \n",
       "117132  32870f7f-c461-4256-b602-75244ca60248  A Google user   \n",
       "117133  dc1352e9-10a8-41ca-ab23-05d045b08e90     suraj soni   \n",
       "\n",
       "                                                  content  score  \\\n",
       "117129  i really like it! there are so many movies and...      5   \n",
       "117130   I love Netflix. I always enjoy my time using it.      5   \n",
       "117131               Sound quality is very slow of movies      1   \n",
       "117132  Rate is very expensive.. bcos we see netflix s...      1   \n",
       "117133  this app is awesome for english movies ,series...      4   \n",
       "\n",
       "        thumbsUpCount   reviewCreatedVersion                   at  \\\n",
       "117129              0                    NaN  2019-08-03 15:06:03   \n",
       "117130              0   8.34.0 build 4 50250  2022-08-15 16:16:30   \n",
       "117131              0                    NaN  2020-08-17 07:26:58   \n",
       "117132              0  7.17.0 build 13 34346  2019-07-21 09:41:42   \n",
       "117133              0                    NaN  2020-05-24 11:04:08   \n",
       "\n",
       "                   appVersion  \n",
       "117129                    NaN  \n",
       "117130   8.34.0 build 4 50250  \n",
       "117131                    NaN  \n",
       "117132  7.17.0 build 13 34346  \n",
       "117133                    NaN  "
      ]
     },
     "execution_count": 75,
     "metadata": {},
     "output_type": "execute_result"
    }
   ],
   "source": [
    "df.tail()"
   ]
  },
  {
   "cell_type": "code",
   "execution_count": 76,
   "metadata": {},
   "outputs": [
    {
     "data": {
      "text/plain": [
       "Index(['reviewId', 'userName', 'content', 'score', 'thumbsUpCount',\n",
       "       'reviewCreatedVersion', 'at', 'appVersion'],\n",
       "      dtype='object')"
      ]
     },
     "execution_count": 76,
     "metadata": {},
     "output_type": "execute_result"
    }
   ],
   "source": [
    "df.columns"
   ]
  },
  {
   "cell_type": "code",
   "execution_count": 77,
   "metadata": {},
   "outputs": [
    {
     "data": {
      "text/plain": [
       "(117134, 8)"
      ]
     },
     "execution_count": 77,
     "metadata": {},
     "output_type": "execute_result"
    }
   ],
   "source": [
    "df.shape"
   ]
  },
  {
   "cell_type": "code",
   "execution_count": 78,
   "metadata": {},
   "outputs": [
    {
     "name": "stdout",
     "output_type": "stream",
     "text": [
      "Shape of the dataset:  (117134, 8)\n",
      "Columns in the dataset:  Index(['reviewId', 'userName', 'content', 'score', 'thumbsUpCount',\n",
      "       'reviewCreatedVersion', 'at', 'appVersion'],\n",
      "      dtype='object')\n"
     ]
    }
   ],
   "source": [
    "print(\"Shape of the dataset: \",df.shape)\n",
    "print(\"Columns in the dataset: \",df.columns)"
   ]
  },
  {
   "cell_type": "code",
   "execution_count": 79,
   "metadata": {},
   "outputs": [],
   "source": [
    "# 전처리 함수\n",
    "def preprocess_text(text):\n",
    "    if isinstance(text, float):\n",
    "        return \"\"\n",
    "    text = text.lower()  # 대문자를 소문자로\n",
    "    text = re.sub(r'[^\\w\\s]', '', text)  # 구두점 제거\n",
    "    text = re.sub(r'\\d+', '', text)  # 숫자 제거\n",
    "    text = text.strip()  # 띄어쓰기 제외하고 빈 칸 제거\n",
    "    return text"
   ]
  },
  {
   "cell_type": "code",
   "execution_count": 80,
   "metadata": {},
   "outputs": [
    {
     "data": {
      "text/html": [
       "<div>\n",
       "<style scoped>\n",
       "    .dataframe tbody tr th:only-of-type {\n",
       "        vertical-align: middle;\n",
       "    }\n",
       "\n",
       "    .dataframe tbody tr th {\n",
       "        vertical-align: top;\n",
       "    }\n",
       "\n",
       "    .dataframe thead th {\n",
       "        text-align: right;\n",
       "    }\n",
       "</style>\n",
       "<table border=\"1\" class=\"dataframe\">\n",
       "  <thead>\n",
       "    <tr style=\"text-align: right;\">\n",
       "      <th></th>\n",
       "      <th>reviewId</th>\n",
       "      <th>userName</th>\n",
       "      <th>content</th>\n",
       "      <th>score</th>\n",
       "      <th>thumbsUpCount</th>\n",
       "      <th>reviewCreatedVersion</th>\n",
       "      <th>at</th>\n",
       "      <th>appVersion</th>\n",
       "    </tr>\n",
       "  </thead>\n",
       "  <tbody>\n",
       "    <tr>\n",
       "      <th>0</th>\n",
       "      <td>ebd</td>\n",
       "      <td>sylviah chichi</td>\n",
       "      <td>great app on the move  i can watch my movies a...</td>\n",
       "      <td>5</td>\n",
       "      <td>0</td>\n",
       "      <td>build</td>\n",
       "      <td></td>\n",
       "      <td>build</td>\n",
       "    </tr>\n",
       "    <tr>\n",
       "      <th>1</th>\n",
       "      <td>babdafcfcedd</td>\n",
       "      <td>marilyn goeda</td>\n",
       "      <td>good</td>\n",
       "      <td>5</td>\n",
       "      <td>0</td>\n",
       "      <td></td>\n",
       "      <td></td>\n",
       "      <td></td>\n",
       "    </tr>\n",
       "    <tr>\n",
       "      <th>2</th>\n",
       "      <td>cdebcabdabdeab</td>\n",
       "      <td>nikhil pk</td>\n",
       "      <td>need to improve and to update some error durin...</td>\n",
       "      <td>3</td>\n",
       "      <td>0</td>\n",
       "      <td>build</td>\n",
       "      <td></td>\n",
       "      <td>build</td>\n",
       "    </tr>\n",
       "    <tr>\n",
       "      <th>3</th>\n",
       "      <td>dbccccacaebd</td>\n",
       "      <td>mmesoma eberechukwu</td>\n",
       "      <td>netflix is a nice appbut not all the movies ar...</td>\n",
       "      <td>3</td>\n",
       "      <td>0</td>\n",
       "      <td>build</td>\n",
       "      <td></td>\n",
       "      <td>build</td>\n",
       "    </tr>\n",
       "    <tr>\n",
       "      <th>4</th>\n",
       "      <td>deebeecea</td>\n",
       "      <td>keabetswe monaise</td>\n",
       "      <td>not much availability considering options on w...</td>\n",
       "      <td>3</td>\n",
       "      <td>0</td>\n",
       "      <td>build</td>\n",
       "      <td></td>\n",
       "      <td>build</td>\n",
       "    </tr>\n",
       "  </tbody>\n",
       "</table>\n",
       "</div>"
      ],
      "text/plain": [
       "         reviewId             userName  \\\n",
       "0             ebd       sylviah chichi   \n",
       "1    babdafcfcedd        marilyn goeda   \n",
       "2  cdebcabdabdeab            nikhil pk   \n",
       "3    dbccccacaebd  mmesoma eberechukwu   \n",
       "4       deebeecea    keabetswe monaise   \n",
       "\n",
       "                                             content  score  thumbsUpCount  \\\n",
       "0  great app on the move  i can watch my movies a...      5              0   \n",
       "1                                               good      5              0   \n",
       "2  need to improve and to update some error durin...      3              0   \n",
       "3  netflix is a nice appbut not all the movies ar...      3              0   \n",
       "4  not much availability considering options on w...      3              0   \n",
       "\n",
       "  reviewCreatedVersion at appVersion  \n",
       "0                build         build  \n",
       "1                                     \n",
       "2                build         build  \n",
       "3                build         build  \n",
       "4                build         build  "
      ]
     },
     "execution_count": 80,
     "metadata": {},
     "output_type": "execute_result"
    }
   ],
   "source": [
    "for column in df.select_dtypes(include=['object']).columns:\n",
    "    df[column] = df[column].apply(preprocess_text)\n",
    "df.head()"
   ]
  },
  {
   "cell_type": "code",
   "execution_count": 81,
   "metadata": {},
   "outputs": [
    {
     "data": {
      "image/png": "[encoded data removed]",
      "text/plain": [
       "<Figure size 640x480 with 1 Axes>"
      ]
     },
     "metadata": {},
     "output_type": "display_data"
    }
   ],
   "source": [
    "import seaborn as sns  # 그래프를 그리기 위한 seaborn 라이브러리 임포트\n",
    "import matplotlib.pyplot as plt  # 그래프 표시를 위한 pyplot 임포트\n",
    "\n",
    "# 리뷰 점수와 리뷰 개수를 계산\n",
    "score_counts = df['score'].value_counts().reset_index()\n",
    "score_counts.columns = ['Score', 'Count']\n",
    "\n",
    "# 막대 그래프 그리기\n",
    "sns.barplot(x='Score', y='Count', data=score_counts)\n",
    "plt.xlabel('Score')  # x축 이름\n",
    "plt.ylabel('Count')  # y축 이름\n",
    "plt.title('Distribution of Scores')  # 그래프 제목\n",
    "plt.show()\n"
   ]
  },
  {
   "cell_type": "code",
   "execution_count": 1,
   "metadata": {},
   "outputs": [
    {
     "ename": "ModuleNotFoundError",
     "evalue": "No module named 'torchtext'",
     "output_type": "error",
     "traceback": [
      "\u001b[0;31m---------------------------------------------------------------------------\u001b[0m",
      "\u001b[0;31mModuleNotFoundError\u001b[0m                       Traceback (most recent call last)",
      "Cell \u001b[0;32mIn[1], line 5\u001b[0m\n\u001b[1;32m      3\u001b[0m \u001b[38;5;28;01mimport\u001b[39;00m \u001b[38;5;21;01mtorch\u001b[39;00m\u001b[38;5;21;01m.\u001b[39;00m\u001b[38;5;21;01mnn\u001b[39;00m \u001b[38;5;28;01mas\u001b[39;00m \u001b[38;5;21;01mnn\u001b[39;00m\n\u001b[1;32m      4\u001b[0m \u001b[38;5;28;01mimport\u001b[39;00m \u001b[38;5;21;01mtorch\u001b[39;00m\u001b[38;5;21;01m.\u001b[39;00m\u001b[38;5;21;01moptim\u001b[39;00m \u001b[38;5;28;01mas\u001b[39;00m \u001b[38;5;21;01moptim\u001b[39;00m\n\u001b[0;32m----> 5\u001b[0m \u001b[38;5;28;01mfrom\u001b[39;00m \u001b[38;5;21;01mtorchtext\u001b[39;00m\u001b[38;5;21;01m.\u001b[39;00m\u001b[38;5;21;01mdata\u001b[39;00m\u001b[38;5;21;01m.\u001b[39;00m\u001b[38;5;21;01mutils\u001b[39;00m \u001b[38;5;28;01mimport\u001b[39;00m get_tokenizer\n\u001b[1;32m      6\u001b[0m \u001b[38;5;28;01mfrom\u001b[39;00m \u001b[38;5;21;01mtorchtext\u001b[39;00m\u001b[38;5;21;01m.\u001b[39;00m\u001b[38;5;21;01mvocab\u001b[39;00m \u001b[38;5;28;01mimport\u001b[39;00m build_vocab_from_iterator\n\u001b[1;32m      7\u001b[0m \u001b[38;5;28;01mfrom\u001b[39;00m \u001b[38;5;21;01mtorch\u001b[39;00m\u001b[38;5;21;01m.\u001b[39;00m\u001b[38;5;21;01mutils\u001b[39;00m\u001b[38;5;21;01m.\u001b[39;00m\u001b[38;5;21;01mdata\u001b[39;00m \u001b[38;5;28;01mimport\u001b[39;00m DataLoader, Dataset\n",
      "\u001b[0;31mModuleNotFoundError\u001b[0m: No module named 'torchtext'"
     ]
    }
   ],
   "source": []
  }
 ],
 "metadata": {
  "kernelspec": {
   "display_name": "ai",
   "language": "python",
   "name": "python3"
  },
  "language_info": {
   "codemirror_mode": {
    "name": "ipython",
    "version": 3
   },
   "file_extension": ".py",
   "mimetype": "text/x-python",
   "name": "python",
   "nbconvert_exporter": "python",
   "pygments_lexer": "ipython3",
   "version": "3.11.10"
  }
 },
 "nbformat": 4,
 "nbformat_minor": 2
}
