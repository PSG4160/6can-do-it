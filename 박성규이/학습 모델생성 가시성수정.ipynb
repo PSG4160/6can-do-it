{
 "cells": [
  {
   "cell_type": "code",
   "execution_count": 1,
   "id": "10a87788-bb7c-47e6-8361-e7c50b8314f6",
   "metadata": {},
   "outputs": [],
   "source": [
    "import pandas as pd\n",
    "import torch\n",
    "import torch.nn as nn\n",
    "import torch.optim as optim\n",
    "from torchtext.data.utils import get_tokenizer\n",
    "from torchtext.vocab import build_vocab_from_iterator\n",
    "from torch.utils.data import DataLoader, Dataset\n",
    "from sklearn.model_selection import train_test_split\n",
    "from sklearn.preprocessing import LabelEncoder\n",
    "from torch.nn.utils.rnn import pad_sequence\n",
    "import numpy as np"
   ]
  },
  {
   "cell_type": "code",
   "execution_count": 2,
   "id": "c8a66544-fdc7-498a-b68e-d4c94f80f388",
   "metadata": {},
   "outputs": [],
   "source": [
    "df = pd.read_csv(\"netflix_reviews.csv\")  # 파일 불러오기\n",
    "df = df.iloc[:,0:5]"
   ]
  },
  {
   "cell_type": "code",
   "execution_count": 3,
   "id": "1c2698be-0195-4211-9cba-4943b9b1c583",
   "metadata": {},
   "outputs": [
    {
     "data": {
      "text/html": [
       "<div>\n",
       "<style scoped>\n",
       "    .dataframe tbody tr th:only-of-type {\n",
       "        vertical-align: middle;\n",
       "    }\n",
       "\n",
       "    .dataframe tbody tr th {\n",
       "        vertical-align: top;\n",
       "    }\n",
       "\n",
       "    .dataframe thead th {\n",
       "        text-align: right;\n",
       "    }\n",
       "</style>\n",
       "<table border=\"1\" class=\"dataframe\">\n",
       "  <thead>\n",
       "    <tr style=\"text-align: right;\">\n",
       "      <th></th>\n",
       "      <th>reviewId</th>\n",
       "      <th>userName</th>\n",
       "      <th>content</th>\n",
       "      <th>score</th>\n",
       "      <th>thumbsUpCount</th>\n",
       "    </tr>\n",
       "  </thead>\n",
       "  <tbody>\n",
       "    <tr>\n",
       "      <th>0</th>\n",
       "      <td>166731e8-4b10-4968-838d-329473357328</td>\n",
       "      <td>Sylviah Chichi</td>\n",
       "      <td>Great App on the move ..... I can watch my mov...</td>\n",
       "      <td>5</td>\n",
       "      <td>0</td>\n",
       "    </tr>\n",
       "    <tr>\n",
       "      <th>1</th>\n",
       "      <td>68bab7d0-2afc-4454-970f-159ced93d751</td>\n",
       "      <td>Marilyn Goeda</td>\n",
       "      <td>good</td>\n",
       "      <td>5</td>\n",
       "      <td>0</td>\n",
       "    </tr>\n",
       "    <tr>\n",
       "      <th>2</th>\n",
       "      <td>6c2d3e85-b5ca-4228-93bd-abd2236eab51</td>\n",
       "      <td>Nikhil Pk</td>\n",
       "      <td>Need to improve and to update some error durin...</td>\n",
       "      <td>3</td>\n",
       "      <td>0</td>\n",
       "    </tr>\n",
       "    <tr>\n",
       "      <th>3</th>\n",
       "      <td>d62b0303-4c87-4c96-9c2c-a3ca6e0b056d</td>\n",
       "      <td>Mmesoma Eberechukwu</td>\n",
       "      <td>Netflix is a nice app,but not all the movies a...</td>\n",
       "      <td>3</td>\n",
       "      <td>0</td>\n",
       "    </tr>\n",
       "    <tr>\n",
       "      <th>4</th>\n",
       "      <td>d6014252-863e-4e06-b440-25e0ece47a31</td>\n",
       "      <td>Keabetswe Monaise</td>\n",
       "      <td>Not much availability considering options on w...</td>\n",
       "      <td>3</td>\n",
       "      <td>0</td>\n",
       "    </tr>\n",
       "    <tr>\n",
       "      <th>...</th>\n",
       "      <td>...</td>\n",
       "      <td>...</td>\n",
       "      <td>...</td>\n",
       "      <td>...</td>\n",
       "      <td>...</td>\n",
       "    </tr>\n",
       "    <tr>\n",
       "      <th>117129</th>\n",
       "      <td>a760ead9-e7aa-4ed1-a651-5c37c3600dac</td>\n",
       "      <td>A Google user</td>\n",
       "      <td>i really like it! there are so many movies and...</td>\n",
       "      <td>5</td>\n",
       "      <td>0</td>\n",
       "    </tr>\n",
       "    <tr>\n",
       "      <th>117130</th>\n",
       "      <td>4957f9e7-d7f4-4a52-9764-031cebcac83f</td>\n",
       "      <td>Captain Jeoy</td>\n",
       "      <td>I love Netflix. I always enjoy my time using it.</td>\n",
       "      <td>5</td>\n",
       "      <td>0</td>\n",
       "    </tr>\n",
       "    <tr>\n",
       "      <th>117131</th>\n",
       "      <td>9acf7586-7abf-4b50-8c50-3ede3b2a42c4</td>\n",
       "      <td>Suryansh</td>\n",
       "      <td>Sound quality is very slow of movies</td>\n",
       "      <td>1</td>\n",
       "      <td>0</td>\n",
       "    </tr>\n",
       "    <tr>\n",
       "      <th>117132</th>\n",
       "      <td>32870f7f-c461-4256-b602-75244ca60248</td>\n",
       "      <td>A Google user</td>\n",
       "      <td>Rate is very expensive.. bcos we see netflix s...</td>\n",
       "      <td>1</td>\n",
       "      <td>0</td>\n",
       "    </tr>\n",
       "    <tr>\n",
       "      <th>117133</th>\n",
       "      <td>dc1352e9-10a8-41ca-ab23-05d045b08e90</td>\n",
       "      <td>suraj soni</td>\n",
       "      <td>this app is awesome for english movies ,series...</td>\n",
       "      <td>4</td>\n",
       "      <td>0</td>\n",
       "    </tr>\n",
       "  </tbody>\n",
       "</table>\n",
       "<p>117134 rows × 5 columns</p>\n",
       "</div>"
      ],
      "text/plain": [
       "                                    reviewId             userName  \\\n",
       "0       166731e8-4b10-4968-838d-329473357328       Sylviah Chichi   \n",
       "1       68bab7d0-2afc-4454-970f-159ced93d751        Marilyn Goeda   \n",
       "2       6c2d3e85-b5ca-4228-93bd-abd2236eab51            Nikhil Pk   \n",
       "3       d62b0303-4c87-4c96-9c2c-a3ca6e0b056d  Mmesoma Eberechukwu   \n",
       "4       d6014252-863e-4e06-b440-25e0ece47a31    Keabetswe Monaise   \n",
       "...                                      ...                  ...   \n",
       "117129  a760ead9-e7aa-4ed1-a651-5c37c3600dac        A Google user   \n",
       "117130  4957f9e7-d7f4-4a52-9764-031cebcac83f         Captain Jeoy   \n",
       "117131  9acf7586-7abf-4b50-8c50-3ede3b2a42c4             Suryansh   \n",
       "117132  32870f7f-c461-4256-b602-75244ca60248        A Google user   \n",
       "117133  dc1352e9-10a8-41ca-ab23-05d045b08e90           suraj soni   \n",
       "\n",
       "                                                  content  score  \\\n",
       "0       Great App on the move ..... I can watch my mov...      5   \n",
       "1                                                    good      5   \n",
       "2       Need to improve and to update some error durin...      3   \n",
       "3       Netflix is a nice app,but not all the movies a...      3   \n",
       "4       Not much availability considering options on w...      3   \n",
       "...                                                   ...    ...   \n",
       "117129  i really like it! there are so many movies and...      5   \n",
       "117130   I love Netflix. I always enjoy my time using it.      5   \n",
       "117131               Sound quality is very slow of movies      1   \n",
       "117132  Rate is very expensive.. bcos we see netflix s...      1   \n",
       "117133  this app is awesome for english movies ,series...      4   \n",
       "\n",
       "        thumbsUpCount  \n",
       "0                   0  \n",
       "1                   0  \n",
       "2                   0  \n",
       "3                   0  \n",
       "4                   0  \n",
       "...               ...  \n",
       "117129              0  \n",
       "117130              0  \n",
       "117131              0  \n",
       "117132              0  \n",
       "117133              0  \n",
       "\n",
       "[117134 rows x 5 columns]"
      ]
     },
     "execution_count": 3,
     "metadata": {},
     "output_type": "execute_result"
    }
   ],
   "source": [
    "df"
   ]
  },
  {
   "cell_type": "code",
   "execution_count": 4,
   "id": "e9796d1b-0e82-45e6-b5dd-845fbe64f705",
   "metadata": {},
   "outputs": [],
   "source": [
    "# 전처리 함수\n",
    "import re\n",
    "import emoji\n",
    "\n",
    "\n",
    "# 이모티콘만 추출하는 함수 (중복 제거)\n",
    "def remove_duplicate_emojis(text):\n",
    "    # 유니코드 이모티콘 범위에 해당하는 모든 이모티콘을 찾음\n",
    "    emoji_pattern = re.compile(\"[\\U0001F600-\\U0001F64F\\U0001F300-\\U0001F5FF\\U0001F680-\\U0001F6FF\\U0001F700-\\U0001F77F]\", flags=re.UNICODE)\n",
    "    \n",
    "    # 중복 제거를 위한 세트 (set) 사용\n",
    "    emojis = set(emoji_pattern.findall(text))\n",
    "    \n",
    "    # 텍스트에서 중복된 이모티콘을 제거하고, 하나의 이모티콘만 남김\n",
    "    for em in emojis:\n",
    "        text = re.sub(em + '+', em, text)  # 중복된 이모티콘을 하나로 줄임\n",
    "    \n",
    "    return text\n",
    "\n",
    "# 전처리 함수 (이모티콘 중복 제거 후 텍스트로 변환)\n",
    "def preprocess_text(text):\n",
    "    if isinstance(text, float):\n",
    "        return \"\"\n",
    "    \n",
    "    # 이모티콘 중복 제거\n",
    "    text = remove_duplicate_emojis(text)\n",
    "    \n",
    "    # 이모티콘을 텍스트로 변환\n",
    "    text = emoji.demojize(text, delimiters=(\" \", \" \"))\n",
    "    \n",
    "    # 소문자로 변환\n",
    "    text = text.lower()\n",
    "    \n",
    "    # 숫자 및 구두점 제거\n",
    "    text = re.sub(r'\\d+', '', text)\n",
    "    text = re.sub(r'[^\\w\\s]', '', text)\n",
    "    \n",
    "    # 앞뒤 공백 제거\n",
    "    text = text.strip()\n",
    "    \n",
    "    return text\n",
    "\n",
    "df['content'] = df['content'].apply(preprocess_text)"
   ]
  },
  {
   "cell_type": "code",
   "execution_count": 5,
   "id": "f40313e3-fbe8-4c5a-bca1-092e270d10db",
   "metadata": {},
   "outputs": [
    {
     "name": "stdout",
     "output_type": "stream",
     "text": [
      "0         great app on the move  i can watch my movies a...\n",
      "1                                                      good\n",
      "2         need to improve and to update some error durin...\n",
      "3         netflix is a nice appbut not all the movies ar...\n",
      "4         not much availability considering options on w...\n",
      "                                ...                        \n",
      "117129    i really like it there are so many movies and ...\n",
      "117130       i love netflix i always enjoy my time using it\n",
      "117131                 sound quality is very slow of movies\n",
      "117132    rate is very expensive bcos we see netflix sun...\n",
      "117133    this app is awesome for english movies series ...\n",
      "Name: content, Length: 117134, dtype: object\n",
      "데이터 타입 :  <class 'pandas.core.series.Series'>\n",
      "데이터 타입 :  <class 'pandas.core.series.Series'>\n"
     ]
    }
   ],
   "source": [
    "print(df['content'])\n",
    "print('데이터 타입 : ', type(df['content'])) # 데이터 타입은 pandas 시리즈인걸 확인 할 수 있다.\n",
    "print('데이터 타입 : ', type(df['score']))"
   ]
  },
  {
   "cell_type": "code",
   "execution_count": 6,
   "id": "f754978c-286a-4044-976c-06f594b37668",
   "metadata": {},
   "outputs": [
    {
     "name": "stdout",
     "output_type": "stream",
     "text": [
      "정수형 텐서로 변환된 평점: tensor([5, 5, 3,  ..., 1, 1, 4]) <class 'torch.Tensor'>\n"
     ]
    }
   ],
   "source": [
    "# 1. ratings를 바로 텐서로 변환\n",
    "ratings = torch.tensor(df['score'], dtype=torch.long) \n",
    "print(\"정수형 텐서로 변환된 평점:\", ratings, type(ratings)) "
   ]
  },
  {
   "cell_type": "code",
   "execution_count": 7,
   "id": "20b93f8e-b03f-4da4-a753-cdd1df0e2854",
   "metadata": {},
   "outputs": [],
   "source": [
    "# 2. reviews\n",
    "reviews = df['content'].tolist()  # 'content'를 리스트로 변환"
   ]
  },
  {
   "cell_type": "code",
   "execution_count": 8,
   "id": "4de3d6be-ae6f-49bf-b56c-95c1ea13f7ca",
   "metadata": {},
   "outputs": [
    {
     "name": "stdout",
     "output_type": "stream",
     "text": [
      "['great app on the move  i can watch my movies and series from any place', 'good', 'need to improve and to update some error during movie playing', 'netflix is a nice appbut not all the movies are there especially the one you want to watch they need to work on that is already getting annoying enraged_face', 'not much availability considering options on what to watch']\n",
      "<class 'list'>\n"
     ]
    }
   ],
   "source": [
    "print(reviews[0:5])\n",
    "print(type(reviews))"
   ]
  },
  {
   "cell_type": "code",
   "execution_count": 9,
   "id": "8a92a1b0-1326-4ca8-828b-00fc8da495fa",
   "metadata": {},
   "outputs": [
    {
     "name": "stderr",
     "output_type": "stream",
     "text": [
      "117134lines [00:01, 82253.88lines/s]\n"
     ]
    }
   ],
   "source": [
    "# (1) 토크나이저 정의 (기본 영어 토크나이저)\n",
    "tokenizer = get_tokenizer('basic_english')\n",
    "\n",
    "# (2) 어휘 사전 생성 함수\n",
    "def yield_tokens(data_iter):\n",
    "    for text in data_iter:\n",
    "        yield tokenizer(text)\n",
    "\n",
    "# (3) 어휘 사전 생성\n",
    "vocab = build_vocab_from_iterator(yield_tokens(reviews))\n",
    "\n",
    "\n",
    "# (4) 파이프라인 정의\n",
    "# 텍스트를 토큰화 후 정수 인덱스로 변환하는 함수\n",
    "def text_pipeline(text):\n",
    "    return [vocab[token] for token in tokenizer(text)]\n",
    "\n",
    "# 레이블을 그대로 정수로 반환하는 함수\n",
    "def label_pipeline(label):\n",
    "    return label\n",
    "\n",
    "# 데이터셋 클래스 정의\n",
    "class ReviewDataset(Dataset):\n",
    "    def __init__(self, reviews, ratings, text_pipeline, label_pipeline):\n",
    "        self.reviews = reviews\n",
    "        self.ratings = ratings\n",
    "        self.text_pipeline = text_pipeline\n",
    "        self.label_pipeline = label_pipeline\n",
    "\n",
    "    def __len__(self):\n",
    "        return len(self.reviews) \n",
    "\n",
    "    def __getitem__(self, idx):\n",
    "        review = self.text_pipeline(self.reviews[idx])\n",
    "        rating = self.label_pipeline(self.ratings[idx])\n",
    "        return torch.tensor(review, dtype=torch.long), torch.tensor(rating, dtype=torch.long) # 정수형 데이터로 변환\n"
   ]
  },
  {
   "cell_type": "code",
   "execution_count": 10,
   "id": "1113ac78-5f04-4ade-91c5-f55b9781e75b",
   "metadata": {},
   "outputs": [],
   "source": [
    "# 데이터를 학습용(train)과 테스트용(test)으로 분리\n",
    "train_reviews, test_reviews, train_ratings, test_ratings = train_test_split(reviews, ratings, test_size=0.2, random_state=42)\n",
    "\n",
    "# 데이터셋 정의\n",
    "train_dataset = ReviewDataset(train_reviews, train_ratings, text_pipeline, label_pipeline)\n",
    "test_dataset = ReviewDataset(test_reviews, test_ratings, text_pipeline, label_pipeline)\n",
    "\n",
    "# 패딩을 적용하는 함수 정의\n",
    "\n",
    "# collate_fn 함수 수정\n",
    "def collate_fn(batch):\n",
    "    # reviews와 ratings를 분리\n",
    "    reviews, ratings = zip(*batch)\n",
    "    \n",
    "    # 리뷰를 텐서로 변환하고 패딩 적용 : 리뷰마다 텍스트 길이가 다름.\n",
    "    reviews = pad_sequence([torch.tensor(r, dtype=torch.long) for r in reviews], batch_first=True, padding_value=0)\n",
    "    \n",
    "    # 평점은 정수형 텐서로 변환 (패딩 필요 없음)\n",
    "    ratings = torch.tensor(ratings, dtype=torch.long)\n",
    "    \n",
    "    return reviews, ratings\n",
    "\n",
    "\n"
   ]
  },
  {
   "cell_type": "code",
   "execution_count": 11,
   "id": "48f814c5-0928-4e47-841e-b61fe1c2156c",
   "metadata": {},
   "outputs": [],
   "source": [
    "# 데이터 로더 정의\n",
    "BATCH_SIZE = 64\n",
    "\n",
    "train_dataloader = DataLoader(train_dataset, batch_size=BATCH_SIZE, shuffle=True, collate_fn=collate_fn)\n",
    "test_dataloader = DataLoader(test_dataset, batch_size=BATCH_SIZE, shuffle=False, collate_fn=collate_fn)"
   ]
  },
  {
   "cell_type": "code",
   "execution_count": 12,
   "id": "16c2f08a-4cad-4c26-abad-4ac2c2a77c17",
   "metadata": {},
   "outputs": [],
   "source": [
    "# LSTM 모델 정의\n",
    "class LSTMModel(nn.Module):\n",
    "    def __init__(self, vocab_size, embed_dim, hidden_dim, output_dim):\n",
    "        super(LSTMModel, self).__init__()\n",
    "        self.embedding = nn.Embedding(vocab_size, embed_dim)  # Embedding으로 변경\n",
    "        self.lstm = nn.LSTM(embed_dim, hidden_dim, batch_first=True)\n",
    "        self.fc = nn.Linear(hidden_dim, output_dim)\n",
    "\n",
    "    def forward(self, text):\n",
    "        embedded = self.embedding(text)\n",
    "        output, (hidden, cell) = self.lstm(embedded)\n",
    "        return self.fc(hidden[-1])\n",
    "\n",
    "# 하이퍼파라미터 정의\n",
    "VOCAB_SIZE = len(vocab)\n",
    "EMBED_DIM = 64\n",
    "HIDDEN_DIM = 128\n",
    "OUTPUT_DIM = len(set(ratings))  # 예측할 점수 개수 5개임 (평점이 정수형)"
   ]
  },
  {
   "cell_type": "code",
   "execution_count": 19,
   "id": "1ea38737-16b1-4fa8-b79e-d086aee09e22",
   "metadata": {
    "scrolled": true
   },
   "outputs": [
    {
     "name": "stderr",
     "output_type": "stream",
     "text": [
      "C:\\Users\\1\\AppData\\Local\\Temp\\ipykernel_9900\\1307326858.py:36: UserWarning: To copy construct from a tensor, it is recommended to use sourceTensor.clone().detach() or sourceTensor.clone().detach().requires_grad_(True), rather than torch.tensor(sourceTensor).\n",
      "  return torch.tensor(review, dtype=torch.long), torch.tensor(rating, dtype=torch.long) # 정수형 데이터로 변환\n",
      "C:\\Users\\1\\AppData\\Local\\Temp\\ipykernel_9900\\4084745060.py:16: UserWarning: To copy construct from a tensor, it is recommended to use sourceTensor.clone().detach() or sourceTensor.clone().detach().requires_grad_(True), rather than torch.tensor(sourceTensor).\n",
      "  reviews = pad_sequence([torch.tensor(r, dtype=torch.long) for r in reviews], batch_first=True, padding_value=0)\n"
     ]
    },
    {
     "name": "stdout",
     "output_type": "stream",
     "text": [
      "Epoch [1/25], Average Loss: 1.2241\n",
      "Epoch [2/25], Average Loss: 1.0057\n",
      "Epoch [3/25], Average Loss: 0.9454\n",
      "Epoch [4/25], Average Loss: 0.9139\n",
      "Epoch [5/25], Average Loss: 0.8877\n",
      "Epoch [6/25], Average Loss: 0.8728\n",
      "Epoch [7/25], Average Loss: 0.8644\n",
      "Epoch [8/25], Average Loss: 0.8510\n",
      "Epoch [9/25], Average Loss: 0.8400\n",
      "Epoch [10/25], Average Loss: 0.8345\n",
      "Epoch [11/25], Average Loss: 0.8278\n",
      "Epoch [12/25], Average Loss: 0.8186\n",
      "Epoch [13/25], Average Loss: 0.8113\n",
      "Epoch [14/25], Average Loss: 0.8229\n",
      "Epoch [15/25], Average Loss: 0.8095\n",
      "Epoch [16/25], Average Loss: 0.7998\n",
      "Epoch [17/25], Average Loss: 0.7928\n",
      "Epoch [18/25], Average Loss: 0.7869\n",
      "Epoch [19/25], Average Loss: 0.7851\n",
      "Epoch [20/25], Average Loss: 0.7844\n",
      "Epoch [21/25], Average Loss: 0.7838\n",
      "Epoch [22/25], Average Loss: 0.7768\n",
      "Epoch [23/25], Average Loss: 0.7777\n",
      "Epoch [24/25], Average Loss: 0.7775\n",
      "Epoch [25/25], Average Loss: 0.7745\n",
      "Finished Training\n",
      "Accuracy: 62.67554531096598%\n"
     ]
    }
   ],
   "source": [
    "# 모델 초기화\n",
    "model = LSTMModel(VOCAB_SIZE, EMBED_DIM, HIDDEN_DIM, OUTPUT_DIM)\n",
    "\n",
    "# 손실 함수와 옵티마이저 정의\n",
    "criterion = nn.CrossEntropyLoss()\n",
    "optimizer = optim.Adam(model.parameters(), lr=0.01)  # SGD 에서 Adam으로 변경 lr : 0.01 - > 0.001 / Accuracy: 63% -> 61.59% 다시 \n",
    "\n",
    "# 모델을 CUDA로 이동 (가능한 경우)\n",
    "device = torch.device(\"cuda\" if torch.cuda.is_available() else \"cpu\")\n",
    "model.to(device)\n",
    "\n",
    "# 모델 학습 함수 정의\n",
    "def train_model(model, train_dataloader, criterion, optimizer, num_epochs=20):\n",
    "    model.train()  # 학습 모드로 설정\n",
    "    for epoch in range(num_epochs):\n",
    "        total_loss = 0  # 에포크마다 손실을 추적\n",
    "        for i, (reviews, ratings) in enumerate(train_dataloader):\n",
    "            reviews, ratings = reviews.to(device), ratings.to(device)  # 데이터를 GPU로 이동\n",
    "            \n",
    "            optimizer.zero_grad()\n",
    "            outputs = model(reviews)  # 모델에 입력하여 예측값 계산\n",
    "            loss = criterion(outputs, ratings)  # 손실 계산\n",
    "            loss.backward()  # 역전파\n",
    "            optimizer.step()  # 가중치 업데이트\n",
    "\n",
    "            total_loss += loss.item()\n",
    "        \n",
    "        print(f'Epoch [{epoch+1}/{num_epochs}], Average Loss: {total_loss/len(train_dataloader):.4f}')\n",
    "    \n",
    "    print(\"Finished Training\")\n",
    "\n",
    "# 모델 학습 실행\n",
    "train_model(model, train_dataloader, criterion, optimizer, num_epochs=20)\n",
    "\n",
    "# 모델 평가\n",
    "\n",
    "correct = 0\n",
    "total = 0\n",
    "with torch.no_grad():  # 평가 시에는 기울기 계산을 하지 않음\n",
    "    for reviews, ratings in test_dataloader:\n",
    "        reviews, ratings = reviews.to(device), ratings.to(device)\n",
    "        outputs = model(reviews)\n",
    "        _, predicted = torch.max(outputs, 1)\n",
    "        total += ratings.size(0)\n",
    "        correct += (predicted == ratings).sum().item()\n",
    "\n",
    "print(f'Accuracy: {100 * correct / total}%')"
   ]
  },
  {
   "cell_type": "code",
   "execution_count": 21,
   "id": "cac50a4a-bc06-4378-a840-82a36a8f955b",
   "metadata": {},
   "outputs": [
    {
     "name": "stdout",
     "output_type": "stream",
     "text": [
      "Predicted Score: 5\n"
     ]
    }
   ],
   "source": [
    "# 예측 함수\n",
    "def predict_review(model, review, vocab, tokenizer, device):\n",
    "    # 리뷰를 텐서로 변환\n",
    "    tokens = [vocab[token] for token in tokenizer(review)]\n",
    "    review_tensor = torch.tensor(tokens).unsqueeze(0)  # (1, seq_length) 형태로 만듦\n",
    "    \n",
    "    # 텐서를 GPU로 이동\n",
    "    review_tensor = review_tensor.to(device)\n",
    "    \n",
    "    # 모델에 입력하여 예측값 계산\n",
    "    model.eval()  # 평가 모드로 변경\n",
    "    with torch.no_grad():  # 평가 시에는 기울기 계산을 하지 않음\n",
    "        output = model(review_tensor)\n",
    "        _, predicted = torch.max(output, 1)\n",
    "    \n",
    "    return predicted.item()  # 예측된 평점 반환\n",
    "# 새로운 리뷰에 대한 예측\n",
    "new_review = \"This app is great but has some bugs.\"\n",
    "predicted_score = predict_review(model, new_review, vocab, tokenizer,  device)\n",
    "print(f'Predicted Score: {predicted_score}')"
   ]
  },
  {
   "cell_type": "code",
   "execution_count": 42,
   "id": "f660872e-62cf-4faa-9b43-b677be4b379a",
   "metadata": {},
   "outputs": [
    {
     "name": "stdout",
     "output_type": "stream",
     "text": [
      "Predicted Score: 3\n"
     ]
    }
   ],
   "source": [
    "# 새로운 리뷰에 대한 예측2\n",
    "new_review = \"Good app for streaming occasionally, but this is the only app I have that completely malfunctions my user interface, and forces me to restart my phone. No idea why it happens, but it is profoundly annoying.\"\n",
    "predicted_score = predict_review(model, new_review, vocab, tokenizer,  device)\n",
    "print(f'Predicted Score: {predicted_score}')"
   ]
  },
  {
   "cell_type": "code",
   "execution_count": 41,
   "id": "8e46b4e3-741a-462f-9efc-26bc5737d4d3",
   "metadata": {},
   "outputs": [
    {
     "name": "stdout",
     "output_type": "stream",
     "text": [
      "Predicted Score: 4\n"
     ]
    }
   ],
   "source": []
  },
  {
   "cell_type": "code",
   "execution_count": null,
   "id": "3d714c13-7cc9-4de9-9181-25395c892bf7",
   "metadata": {},
   "outputs": [],
   "source": []
  }
 ],
 "metadata": {
  "kernelspec": {
   "display_name": "Python_DL",
   "language": "python",
   "name": "dl"
  },
  "language_info": {
   "codemirror_mode": {
    "name": "ipython",
    "version": 3
   },
   "file_extension": ".py",
   "mimetype": "text/x-python",
   "name": "python",
   "nbconvert_exporter": "python",
   "pygments_lexer": "ipython3",
   "version": "3.9.20"
  }
 },
 "nbformat": 4,
 "nbformat_minor": 5
}
