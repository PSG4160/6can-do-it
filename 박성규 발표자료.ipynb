{
 "cells": [
  {
   "cell_type": "markdown",
   "id": "40d229c9-5ad1-4233-a0ed-3c13e1466204",
   "metadata": {},
   "source": [
    "이모티콘 전처리"
   ]
  },
  {
   "cell_type": "code",
   "execution_count": null,
   "id": "876735b8-77c4-42f9-9c3a-e87c18e612c0",
   "metadata": {},
   "outputs": [],
   "source": [
    "# 전처리 함수\n",
    "import re\n",
    "import emoji\n",
    "\n",
    "\n",
    "# 이모티콘만 추출하는 함수 (중복 제거)\n",
    "def remove_duplicate_emojis(text):\n",
    "    # 유니코드 이모티콘 범위에 해당하는 모든 이모티콘을 찾음\n",
    "    emoji_pattern = re.compile(\"[\\U0001F600-\\U0001F64F\\U0001F300-\\U0001F5FF\\U0001F680-\\U0001F6FF\\U0001F700-\\U0001F77F]\", flags=re.UNICODE)\n",
    "    \n",
    "    # 중복 제거를 위한 세트 (set) 사용\n",
    "    emojis = set(emoji_pattern.findall(text))\n",
    "    \n",
    "    # 텍스트에서 중복된 이모티콘을 제거하고, 하나의 이모티콘만 남김\n",
    "    for em in emojis:\n",
    "        text = re.sub(em + '+', em, text)  # 중복된 이모티콘을 하나로 줄임\n",
    "    \n",
    "    return text\n",
    "\n",
    "# 전처리 함수 (이모티콘 중복 제거 후 텍스트로 변환)\n",
    "def preprocess_text(text):\n",
    "    if isinstance(text, float):\n",
    "        return \"\"\n",
    "    \n",
    "    # 이모티콘 중복 제거\n",
    "    text = remove_duplicate_emojis(text)\n",
    "    \n",
    "    # 이모티콘을 텍스트로 변환\n",
    "    text = emoji.demojize(text, delimiters=(\" \", \" \"))\n",
    "    \n",
    "    # 소문자로 변환\n",
    "    text = text.lower()\n",
    "    \n",
    "    # 숫자 및 구두점 제거\n",
    "    text = re.sub(r'\\d+', '', text)\n",
    "    text = re.sub(r'[^\\w\\s]', '', text)\n",
    "    \n",
    "    # 앞뒤 공백 제거\n",
    "    text = text.strip()\n",
    "    \n",
    "    return text\n",
    "\n",
    "df['content'] = df['content'].apply(preprocess_text)"
   ]
  },
  {
   "cell_type": "markdown",
   "id": "011577af-aadf-43af-a8c8-042e392ccaca",
   "metadata": {},
   "source": [
    "왜? 리뷰에서 이모티콘은 평점과 관련해 중요한 데이터라 생각했고, 이를 지우기 보단 활용하는 방안을 생각했다. 전처리 과정에서 추가해봤다. "
   ]
  },
  {
   "cell_type": "code",
   "execution_count": null,
   "id": "5869394f-8c77-455a-9ea9-b85a347ceae5",
   "metadata": {},
   "outputs": [],
   "source": [
    "print(df['content'])\n",
    "print('데이터 타입 : ', type(df['content'])) # 데이터 타입은 pandas 시리즈인걸 확인 할 수 있다.\n",
    "print('데이터 타입 : ', type(df['score']))"
   ]
  },
  {
   "cell_type": "markdown",
   "id": "0831ae0c-ee42-48ac-96d2-49ac5bda7c0f",
   "metadata": {},
   "source": [
    "결과값\n",
    "0         great app on the move  i can watch my movies a...\n",
    "1                                                      good\n",
    "2         need to improve and to update some error durin...\n",
    "3         netflix is a nice appbut not all the movies ar...\n",
    "4         not much availability considering options on w...\n",
    "                                ...                        \n",
    "117129    i really like it there are so many movies and ...\n",
    "117130       i love netflix i always enjoy my time using it\n",
    "117131                 sound quality is very slow of movies\n",
    "117132    rate is very expensive bcos we see netflix sun...\n",
    "117133    this app is awesome for english movies series ...\n",
    "Name: content, Length: 117134, dtype: object\n",
    "데이터 타입 :  <class 'pandas.core.series.Series'>\n",
    "데이터 타입 :  <class 'pandas.core.series.Series'>"
   ]
  },
  {
   "cell_type": "code",
   "execution_count": null,
   "id": "d901e7b5-473b-41ea-b613-85185f7bcb6a",
   "metadata": {},
   "outputs": [],
   "source": []
  },
  {
   "cell_type": "code",
   "execution_count": null,
   "id": "11cc936e-702c-4150-a2cd-12c4d39d5ea5",
   "metadata": {},
   "outputs": [],
   "source": []
  },
  {
   "cell_type": "code",
   "execution_count": null,
   "id": "abb490a4-b938-4df7-b77a-84a83e2a148c",
   "metadata": {},
   "outputs": [],
   "source": []
  }
 ],
 "metadata": {
  "kernelspec": {
   "display_name": "Python_DL",
   "language": "python",
   "name": "dl"
  },
  "language_info": {
   "codemirror_mode": {
    "name": "ipython",
    "version": 3
   },
   "file_extension": ".py",
   "mimetype": "text/x-python",
   "name": "python",
   "nbconvert_exporter": "python",
   "pygments_lexer": "ipython3",
   "version": "3.9.20"
  }
 },
 "nbformat": 4,
 "nbformat_minor": 5
}
