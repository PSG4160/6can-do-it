{
 "cells": [
  {
   "cell_type": "markdown",
   "metadata": {},
   "source": [
    "**데이터셋 불러오기**"
   ]
  },
  {
   "cell_type": "code",
   "execution_count": 6,
   "metadata": {},
   "outputs": [
    {
     "name": "stdout",
     "output_type": "stream",
     "text": [
      "Warning: Looks like you're using an outdated `kagglehub` version, please consider updating (latest version: 0.3.3)\n",
      "Path to dataset files: /Users/anem1c/.cache/kagglehub/datasets/ashishkumarak/netflix-reviews-playstore-daily-updated/versions/170\n",
      "Shape of the dataset:  (117134, 8)\n",
      "Columns in the dataset:  Index(['reviewId', 'userName', 'content', 'score', 'thumbsUpCount',\n",
      "       'reviewCreatedVersion', 'at', 'appVersion'],\n",
      "      dtype='object')\n"
     ]
    }
   ],
   "source": [
    "import kagglehub\n",
    "\n",
    "# Download latest version\n",
    "path = kagglehub.dataset_download(\"ashishkumarak/netflix-reviews-playstore-daily-updated\")\n",
    "\n",
    "print(\"Path to dataset files:\", path)\n",
    "\n",
    "import pandas as pd\n",
    "import re \n",
    "df = pd.read_csv(\"netflix_reviews.csv\")\n",
    "df.columns\n",
    "df.shape\n",
    "print(\"Shape of the dataset: \",df.shape)\n",
    "print(\"Columns in the dataset: \",df.columns)\n",
    "\n"
   ]
  },
  {
   "cell_type": "code",
   "execution_count": 7,
   "metadata": {},
   "outputs": [
    {
     "data": {
      "image/png": "[encoded data removed]",
      "text/plain": [
       "<Figure size 640x480 with 1 Axes>"
      ]
     },
     "metadata": {},
     "output_type": "display_data"
    }
   ],
   "source": [
    "\n",
    "# 전처리 함수\n",
    "def preprocess_text(text):\n",
    "    if isinstance(text, float):\n",
    "        return \"\"\n",
    "    text = text.lower()  # 대문자를 소문자로\n",
    "    text = re.sub(r'[^\\w\\s]', '', text)  # 구두점 제거\n",
    "    text = re.sub(r'\\d+', '', text)  # 숫자 제거\n",
    "    text = text.strip()  # 띄어쓰기 제외하고 빈 칸 제거\n",
    "    return text\n",
    "for column in df.select_dtypes(include=['object']).columns:\n",
    "    df[column] = df[column].apply(preprocess_text)\n",
    "df.head()\n",
    "import seaborn as sns  # 그래프를 그리기 위한 seaborn 라이브러리 임포트\n",
    "import matplotlib.pyplot as plt  # 그래프 표시를 위한 pyplot 임포트\n",
    "\n",
    "# 리뷰 점수와 리뷰 개수를 계산\n",
    "score_counts = df['score'].value_counts().reset_index()\n",
    "score_counts.columns = ['Score', 'Count']\n",
    "\n",
    "# 막대 그래프 그리기\n",
    "sns.barplot(x='Score', y='Count', data=score_counts)\n",
    "plt.xlabel('Score')  # x축 이름\n",
    "plt.ylabel('Count')  # y축 이름\n",
    "plt.title('Distribution of Scores')  # 그래프 제목\n",
    "plt.show()\n",
    "\n"
   ]
  },
  {
   "cell_type": "code",
   "execution_count": 10,
   "metadata": {},
   "outputs": [
    {
     "name": "stderr",
     "output_type": "stream",
     "text": [
      "/opt/anaconda3/envs/py/lib/python3.10/site-packages/transformers/utils/generic.py:441: UserWarning: torch.utils._pytree._register_pytree_node is deprecated. Please use torch.utils._pytree.register_pytree_node instead.\n",
      "  _torch_pytree._register_pytree_node(\n"
     ]
    },
    {
     "name": "stdout",
     "output_type": "stream",
     "text": [
      "Epoch 1/10, Loss: 1.4551051213879633\n",
      "Epoch 2/10, Loss: 1.408879437381497\n",
      "Epoch 3/10, Loss: 1.3908150786832738\n",
      "Epoch 4/10, Loss: 1.3743709767637806\n",
      "Epoch 5/10, Loss: 1.3592606112411811\n",
      "Epoch 6/10, Loss: 1.345124237854733\n",
      "Epoch 7/10, Loss: 1.3320640278350777\n",
      "Epoch 8/10, Loss: 1.3197930826668853\n",
      "Epoch 9/10, Loss: 1.3086019070075234\n",
      "Epoch 10/10, Loss: 1.2978835736525343\n",
      "Predicted Score: 5\n"
     ]
    }
   ],
   "source": [
    "import pandas as pd\n",
    "import torch\n",
    "import torch.nn as nn\n",
    "import torch.optim as optim\n",
    "from torch.utils.data import DataLoader, Dataset\n",
    "from sklearn.feature_extraction.text import TfidfVectorizer\n",
    "from sklearn.model_selection import train_test_split\n",
    "from sklearn.preprocessing import LabelEncoder\n",
    "import numpy as np\n",
    "\n",
    "# 텍스트 컬럼에 전처리 적용\n",
    "df['content'] = df['content'].apply(preprocess_text)\n",
    "\n",
    "# 리뷰와 점수 데이터 추출\n",
    "reviews = df['content'].values\n",
    "ratings = df['score'].values\n",
    "\n",
    "# 레이블 인코딩\n",
    "label_encoder = LabelEncoder()\n",
    "ratings = label_encoder.fit_transform(ratings)\n",
    "\n",
    "# TF-IDF 벡터화\n",
    "vectorizer = TfidfVectorizer(max_features=5000)  # 최대 5000개의 단어만 벡터화\n",
    "reviews_tfidf = vectorizer.fit_transform(reviews).toarray()\n",
    "\n",
    "# 학습/테스트 데이터 분할\n",
    "train_reviews, test_reviews, train_ratings, test_ratings = train_test_split(\n",
    "    reviews_tfidf, ratings, test_size=0.2, random_state=42\n",
    ")\n",
    "\n",
    "# 텐서 데이터로 변환\n",
    "train_reviews_tensor = torch.tensor(train_reviews, dtype=torch.float32)\n",
    "train_ratings_tensor = torch.tensor(train_ratings, dtype=torch.long)\n",
    "test_reviews_tensor = torch.tensor(test_reviews, dtype=torch.float32)\n",
    "test_ratings_tensor = torch.tensor(test_ratings, dtype=torch.long)\n",
    "\n",
    "# 데이터셋 및 데이터로더 정의\n",
    "class ReviewDataset(Dataset):\n",
    "    def __init__(self, reviews, ratings):\n",
    "        self.reviews = reviews\n",
    "        self.ratings = ratings\n",
    "\n",
    "    def __len__(self):\n",
    "        return len(self.reviews)\n",
    "\n",
    "    def __getitem__(self, idx):\n",
    "        return self.reviews[idx], self.ratings[idx]\n",
    "\n",
    "train_dataset = ReviewDataset(train_reviews_tensor, train_ratings_tensor)\n",
    "test_dataset = ReviewDataset(test_reviews_tensor, test_ratings_tensor)\n",
    "\n",
    "train_dataloader = DataLoader(train_dataset, batch_size=64, shuffle=True)\n",
    "test_dataloader = DataLoader(test_dataset, batch_size=64, shuffle=False)\n",
    "\n",
    "# 로지스틱 회귀 모델 정의\n",
    "class LogisticRegressionModel(nn.Module):\n",
    "    def __init__(self, input_dim, output_dim):\n",
    "        super(LogisticRegressionModel, self).__init__()\n",
    "        self.linear = nn.Linear(input_dim, output_dim)\n",
    "\n",
    "    def forward(self, x):\n",
    "        return self.linear(x)\n",
    "\n",
    "# 하이퍼파라미터 설정\n",
    "INPUT_DIM = train_reviews_tensor.shape[1]  # TF-IDF 벡터의 차원\n",
    "OUTPUT_DIM = len(label_encoder.classes_)  # 예측할 점수 개수\n",
    "\n",
    "# 모델 초기화\n",
    "model = LogisticRegressionModel(INPUT_DIM, OUTPUT_DIM)\n",
    "\n",
    "# 손실 함수와 옵티마이저 정의\n",
    "criterion = nn.CrossEntropyLoss()\n",
    "optimizer = optim.SGD(model.parameters(), lr=0.01)\n",
    "\n",
    "# 모델 학습\n",
    "EPOCHS = 10\n",
    "for epoch in range(EPOCHS):\n",
    "    model.train()\n",
    "    total_loss = 0\n",
    "    for batch_reviews, batch_ratings in train_dataloader:\n",
    "        optimizer.zero_grad()\n",
    "        outputs = model(batch_reviews)\n",
    "        loss = criterion(outputs, batch_ratings)\n",
    "        loss.backward()\n",
    "        optimizer.step()\n",
    "        total_loss += loss.item()\n",
    "    print(f'Epoch {epoch + 1}/{EPOCHS}, Loss: {total_loss / len(train_dataloader)}')\n",
    "\n",
    "# 예측 함수\n",
    "def predict_review(model, review):\n",
    "    model.eval()\n",
    "    with torch.no_grad():\n",
    "        review_tfidf = vectorizer.transform([review]).toarray()\n",
    "        review_tensor = torch.tensor(review_tfidf, dtype=torch.float32)\n",
    "        output = model(review_tensor)\n",
    "        prediction = output.argmax(1).item()\n",
    "        return label_encoder.inverse_transform([prediction])[0]\n",
    "\n",
    "# 새로운 리뷰에 대한 예측\n",
    "new_review = \"This app is great but has some bugs.\"\n",
    "predicted_score = predict_review(model, new_review)\n",
    "print(f'Predicted Score: {predicted_score}')\n"
   ]
  }
 ],
 "metadata": {
  "kernelspec": {
   "display_name": "py",
   "language": "python",
   "name": "python3"
  },
  "language_info": {
   "codemirror_mode": {
    "name": "ipython",
    "version": 3
   },
   "file_extension": ".py",
   "mimetype": "text/x-python",
   "name": "python",
   "nbconvert_exporter": "python",
   "pygments_lexer": "ipython3",
   "version": "3.10.14"
  }
 },
 "nbformat": 4,
 "nbformat_minor": 2
}
