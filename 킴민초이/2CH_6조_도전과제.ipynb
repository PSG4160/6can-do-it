{
 "cells": [
  {
   "cell_type": "code",
   "execution_count": 9,
   "id": "31d880a5-3ec4-4d8b-a4cc-66f758531a60",
   "metadata": {},
   "outputs": [
    {
     "name": "stdout",
     "output_type": "stream",
     "text": [
      "Shape of the dataset: (117134, 8)\n",
      "Columns in the dataset: Index(['reviewId', 'userName', 'content', 'score', 'thumbsUpCount',\n",
      "       'reviewCreatedVersion', 'at', 'appVersion'],\n",
      "      dtype='object')\n"
     ]
    }
   ],
   "source": [
    "import pandas as pd\n",
    "\n",
    "df = pd.read_csv(\"netflix_reviews.csv\")  # 파일 불러오기\n",
    "print(\"Shape of the dataset:\", df.shape)\n",
    "print(\"Columns in the dataset:\", df.columns)"
   ]
  },
  {
   "cell_type": "code",
   "execution_count": 10,
   "id": "9ec527ac-2ff4-4999-bfc3-b71efd48ccc0",
   "metadata": {},
   "outputs": [],
   "source": [
    "def preprocess_text(text):\n",
    "    if isinstance(text, float):\n",
    "        return \"\"\n",
    "    text = text.lower()  # 대문자를 소문자로\n",
    "    text = re.sub(r'[^\\w\\s]', '', text)  # 구두점 제거\n",
    "    text = re.sub(r'\\d+', '', text)  # 숫자 제거\n",
    "    text = text.strip()  # 띄어쓰기 제외하고 빈 칸 제거\n",
    "    return text"
   ]
  },
  {
   "cell_type": "code",
   "execution_count": 11,
   "id": "eb40c1d3-a8b3-4b03-8c0a-1a03851127ed",
   "metadata": {},
   "outputs": [
    {
     "data": {
      "image/png": "[encoded data removed]",
      "text/plain": [
       "<Figure size 640x480 with 1 Axes>"
      ]
     },
     "metadata": {},
     "output_type": "display_data"
    }
   ],
   "source": [
    "import seaborn as sns\n",
    "import matplotlib.pyplot as plt\n",
    "\n",
    "# 스코어 별 리뷰 개수 계산\n",
    "score_counts = df['score'].value_counts().reset_index()\n",
    "score_counts.columns = ['Score', 'Count']  # 열 이름 변경\n",
    "\n",
    "# 그래프 그리기\n",
    "sns.barplot(x='Score', y='Count', data=score_counts)\n",
    "plt.xlabel('Score')\n",
    "plt.ylabel('Count')\n",
    "plt.title('Distribution of Scores')\n",
    "plt.show()"
   ]
  },
  {
   "cell_type": "code",
   "execution_count": 12,
   "id": "2f4edfe4-dcae-416e-be35-b30e738ae85d",
   "metadata": {},
   "outputs": [
    {
     "name": "stdout",
     "output_type": "stream",
     "text": [
      "Predicted Score: 5\n"
     ]
    }
   ],
   "source": [
    "\n",
    "import re\n",
    "import torch \n",
    "import torch.nn as nn\n",
    "import torch.optim as optim\n",
    "from torchtext.data.utils import get_tokenizer\n",
    "from torchtext.vocab import build_vocab_from_iterator\n",
    "from torch.utils.data import DataLoader, Dataset\n",
    "from sklearn.model_selection import train_test_split\n",
    "from sklearn.preprocessing import LabelEncoder\n",
    "\n",
    "# 리뷰와 점수 추출\n",
    "df['content'] = df['content'].apply(preprocess_text)  # 텍스트 전처리\n",
    "reviews = df['content'].tolist()  # 리뷰 리스트\n",
    "ratings = df['score'].tolist()  # 점수 리스트\n",
    "\n",
    "# 텍스트 파이프라인 정의\n",
    "tokenizer = get_tokenizer(\"basic_english\")\n",
    "vocab = build_vocab_from_iterator(map(tokenizer, reviews), specials=[\"<unk>\"])\n",
    "label_encoder = LabelEncoder()\n",
    "encoded_ratings = label_encoder.fit_transform(ratings)\n",
    "\n",
    "# 텍스트 파이프라인 함수 정의\n",
    "def text_pipeline(text):\n",
    "    return [vocab[token] if token in vocab else vocab[\"<unk>\"] for token in tokenizer(text)]\n",
    "\n",
    "# 훈련/테스트 데이터 분할\n",
    "train_reviews, test_reviews, train_ratings, test_ratings = train_test_split(\n",
    "    reviews, encoded_ratings, test_size=0.2, random_state=42\n",
    ")\n",
    "\n",
    "# 데이터셋 클래스 정의\n",
    "class ReviewDataset(Dataset):\n",
    "    def __init__(self, reviews, ratings, text_pipeline, label_pipeline):\n",
    "        self.reviews = reviews\n",
    "        self.ratings = ratings\n",
    "        self.text_pipeline = text_pipeline\n",
    "        self.label_pipeline = label_pipeline\n",
    "\n",
    "    def __len__(self):\n",
    "        return len(self.reviews)\n",
    "\n",
    "    def __getitem__(self, idx):\n",
    "        review = self.text_pipeline(self.reviews[idx])\n",
    "        rating = self.label_pipeline(self.ratings[idx])\n",
    "        return torch.tensor(review), torch.tensor(rating)\n",
    "\n",
    "# 데이터셋 정의\n",
    "train_dataset = ReviewDataset(train_reviews, train_ratings, text_pipeline, label_encoder.transform)\n",
    "test_dataset = ReviewDataset(test_reviews, test_ratings, text_pipeline, label_encoder.transform)\n",
    "\n",
    "# 데이터 로더 정의\n",
    "BATCH_SIZE = 64\n",
    "train_dataloader = DataLoader(train_dataset, batch_size=BATCH_SIZE, shuffle=True)\n",
    "test_dataloader = DataLoader(test_dataset, batch_size=BATCH_SIZE, shuffle=False)\n",
    "\n",
    "# LSTM 모델 정의\n",
    "class LSTMModel(nn.Module):\n",
    "    def __init__(self, vocab_size, embed_dim, hidden_dim, output_dim):\n",
    "        super(LSTMModel, self).__init__()\n",
    "        self.embedding = nn.Embedding(vocab_size, embed_dim)\n",
    "        self.lstm = nn.LSTM(embed_dim, hidden_dim, batch_first=True)\n",
    "        self.fc = nn.Linear(hidden_dim, output_dim)\n",
    "\n",
    "    def forward(self, text):\n",
    "        embedded = self.embedding(text)  # [batch_size, seq_length, embed_dim]\n",
    "        output, (hidden, cell) = self.lstm(embedded)  # [batch_size, seq_length, hidden_dim]\n",
    "        return self.fc(hidden[-1])  # [batch_size, output_dim]\n",
    "\n",
    "# 하이퍼파라미터 정의\n",
    "VOCAB_SIZE = len(vocab)\n",
    "EMBED_DIM = 64\n",
    "HIDDEN_DIM = 128\n",
    "OUTPUT_DIM = len(set(ratings))  # 예측할 점수 개수\n",
    "\n",
    "# 모델 초기화\n",
    "model = LSTMModel(VOCAB_SIZE, EMBED_DIM, HIDDEN_DIM, OUTPUT_DIM)\n",
    "\n",
    "# 손실 함수와 옵티마이저 정의\n",
    "criterion = nn.CrossEntropyLoss()\n",
    "optimizer = optim.SGD(model.parameters(), lr=0.01)\n",
    "\n",
    "# 모델 학습은 직접 작성해보세요!!!\n",
    "\n",
    "# 예측 함수(예시)\n",
    "def predict_review(model, review):\n",
    "    model.eval()\n",
    "    with torch.no_grad():\n",
    "        tensor_review = torch.tensor(text_pipeline(review)).unsqueeze(0)  # Add batch dimension\n",
    "        output = model(tensor_review)\n",
    "        prediction = output.argmax(1).item()\n",
    "        return label_encoder.inverse_transform([prediction])[0]\n",
    "\n",
    "# 새로운 리뷰에 대한 예측\n",
    "new_review = \"This app is great but has some bugs.\"\n",
    "predicted_score = predict_review(model, new_review)\n",
    "print(f'Predicted Score: {predicted_score}')\n"
   ]
  },
  {
   "cell_type": "code",
   "execution_count": null,
   "id": "206d1b15-3d4a-438c-a1a3-5966fc32688d",
   "metadata": {},
   "outputs": [],
   "source": []
  }
 ],
 "metadata": {
  "kernelspec": {
   "display_name": "pandas_course",
   "language": "python",
   "name": "pandas_course"
  },
  "language_info": {
   "codemirror_mode": {
    "name": "ipython",
    "version": 3
   },
   "file_extension": ".py",
   "mimetype": "text/x-python",
   "name": "python",
   "nbconvert_exporter": "python",
   "pygments_lexer": "ipython3",
   "version": "3.10.15"
  }
 },
 "nbformat": 4,
 "nbformat_minor": 5
}
